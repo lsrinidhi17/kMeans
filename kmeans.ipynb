{
 "cells": [
  {
   "cell_type": "markdown",
   "metadata": {},
   "source": [
    "# Assignment 02: K-Means Clustering\n",
    "\n",
    "I want you to implement a function to calculate the k-means clustering of a dataframe of $m$ observations with $n$ attributes.\n",
    "\n",
    "Your implementation function should have the signature:\n",
    "    \n",
    "    cluster_kmeans(df, k)\n",
    "    \n",
    "where\n",
    "    \n",
    "    df is a Pandas dataframe of m observations with n attributes; m rows with n columns (excluding index;\n",
    "    the index will contain the label for each observation and is not considered an attribute)\n",
    "    \n",
    "    k is the number of clusters to find\n",
    "\n",
    "The function should return a new dataframe with a single column: the cluster label for each observation.\n",
    "(Copy the index from the input dataframe into the output dataframe to keep them consistent.).  It should also return the last Sum-of-the-Square-Errors (SSE) from the clustering.\n",
    "\n",
    "For the proximity measure, you can use Euclidean distance as the metric.  Sum-of-the-Square-Errors is the objective function.  You can assume that the attributes have been standardized (i.e. properly-transformed) prior to k-means being called.\n",
    "\n",
    "**Keep your final solution notebook tidy.  I will be testing your code by first executing every cell in the notebook and then calling your `cluster_kmeans` with my test data.  If a cell cause the interpreter to throw an exception, I will not be able to test the notebook.**\n",
    "\n",
    "You may write additional functions and tests in this notebook to write and test your solution. *I should be able to add a cell at the end of this notebook and have it test your function by using  the kernel's \"Restart and Run All\" feature.*\n",
    "\n",
    "Start by creating test dataframes where the clusters should be obvious.  Then test the end of the process by being able to plot a dataframe's attributes on a 2D plot with the correct cluster label.  (Since these are test points, you know what that label should be.)  Once you know you can generate test data and plot the solution, begin working on the cluster_kmean's function.  \n",
    "\n",
    "After playing with a small number of points in test dataframes to check your solution, you may consider using [distribution sampling functions from numpy](https://docs.scipy.org/doc/numpy-1.14.0/reference/routines.random.html) to generate points in a cluster for testing.  (Combine the clusters you generate into a single dataframe to test how well your algorithm works.)\n",
    "\n",
    "Do note that the labels from each call to cluster_kmeans may change: that is cluster 1 and cluster 2 might appear as cluster 2 and cluster 1.  Since you know the original labels from your test data as you generated it yourself, you should be able to figure out which belongs to which original label during testing.\n",
    "\n",
    "**<span style=\"color:purple\">The project will be due after Spring break on Wednesday, March 11th @ 10PM via Mimir Classroom.</span>**\n",
    "\n"
   ]
  },
  {
   "cell_type": "code",
   "execution_count": 3,
   "metadata": {},
   "outputs": [],
   "source": [
    "import pandas as pd\n",
    "import numpy as np\n",
    "import seaborn as sns\n",
    "import matplotlib.pyplot as plt\n",
    "from random import randrange\n",
    "\n"
   ]
  },
  {
   "cell_type": "code",
   "execution_count": 4,
   "metadata": {},
   "outputs": [],
   "source": [
    "def generate_2D_blob(X, Y, n_points, label):\n",
    "    \"\"\"\n",
    "    Generate a 2D blob of points.\n",
    "    \n",
    "    Args:\n",
    "        X          tuple (mean, var) for X-dimension\n",
    "        Y          tuple (mean, var) for Y-dimension\n",
    "        n_points   number of points\n",
    "        label      the label to return\n",
    "        \n",
    "    Returns:\n",
    "        DataFrame with columns [x,y,label]\n",
    "    \"\"\"\n",
    "    mean_x, var_x = X\n",
    "    mean_y, var_y = Y\n",
    "    x_pts = np.random.normal(mean_x, var_x, n_points)\n",
    "    y_pts = np.random.normal(mean_y, var_y, n_points)\n",
    "    df = pd.DataFrame()\n",
    "    df['x'] = x_pts\n",
    "    df['y'] = y_pts\n",
    "    df['label'] = label\n",
    "    return df"
   ]
  },
  {
   "cell_type": "code",
   "execution_count": 5,
   "metadata": {},
   "outputs": [],
   "source": [
    "def generate_3D_blob(X, Y, Z, n_points, label):\n",
    "    \"\"\"\n",
    "    Generate a 3D blob of points.\n",
    "    \n",
    "    Args:\n",
    "        X          tuple (mean, var) for X-dimension\n",
    "        Y          tuple (mean, var) for Y-dimension\n",
    "        Z          tuple (mean, var) for Y-dimension\n",
    "        n_points   number of points\n",
    "        label      the label to return\n",
    "        \n",
    "    Returns:\n",
    "        DataFrame with columns [x,y,z,label]\n",
    "    \"\"\"\n",
    "    mean_x, var_x = X\n",
    "    mean_y, var_y = Y\n",
    "    mean_z, var_z = Z\n",
    "    x_pts = np.random.normal(mean_x, var_x, n_points)\n",
    "    y_pts = np.random.normal(mean_y, var_y, n_points)\n",
    "    z_pts = np.random.normal(mean_z, var_z, n_points)\n",
    "    df = pd.DataFrame()\n",
    "    df['x'] = x_pts\n",
    "    df['y'] = y_pts\n",
    "    df['z'] = z_pts\n",
    "    df['label'] = label\n",
    "    return df"
   ]
  },
  {
   "cell_type": "code",
   "execution_count": 6,
   "metadata": {},
   "outputs": [],
   "source": [
    "def cluster_kmeans(df, k):\n",
    "    \"\"\"\n",
    "    Clusters the m observations of n attributes \n",
    "    in the Pandas' dataframe df into k clusters.\n",
    "    \n",
    "    Euclidean distance is used as the proximity metric.\n",
    "    \n",
    "    Arguments:\n",
    "        df   pandas dataframe of m rows with n columns (excluding index)\n",
    "        k    the number of clusters to search for\n",
    "        \n",
    "    Returns:\n",
    "        a m x 1 dataframe of cluster labels for each of the m observations\n",
    "        retaining the original dataframe's (df's) index\n",
    "        \n",
    "        the final Sum-of-Error-Squared (SSE) from the clustering\n",
    "    \"\"\"\n",
    "    dataset = df.astype(float).values.tolist()\n",
    "    X= df.values #returns a numpy array"
   ]
  },
  {
   "cell_type": "code",
   "execution_count": 7,
   "metadata": {},
   "outputs": [],
   "source": [
    "def distance(point1, point2):\n",
    "    dis = point1-point2\n",
    "    return (np.dot(dis, dis))**.5"
   ]
  },
  {
   "cell_type": "code",
   "execution_count": 8,
   "metadata": {},
   "outputs": [],
   "source": [
    "def create_centroids(data, num_clusters = 3):\n",
    "    centroids = []\n",
    "    a,b = np.shape(data)\n",
    "    for j in range(0, num_clusters):\n",
    "        temp = []\n",
    "        for i in range(0, b):\n",
    "            maxx = int(max(data.iloc[:,i]))\n",
    "            maxx\n",
    "            minx = int(min(data.iloc[:,i]))\n",
    "            temp.append(randrange(minx, maxx))\n",
    "        centroids.append(temp)\n",
    "    return np.asarray(centroids)\n",
    "#centroids = create_centroids(df[df.columns[:-1]])"
   ]
  },
  {
   "cell_type": "code",
   "execution_count": 9,
   "metadata": {
    "scrolled": false
   },
   "outputs": [],
   "source": [
    "def label(data, centroids):\n",
    "    m, n = np.shape(data)\n",
    "    lab = []\n",
    "    for i in range(0, m):\n",
    "        dis = []\n",
    "        x, y = np.shape(centroids)\n",
    "        for j in range(0,x):\n",
    "            dis.append(distance(centroids[j,:], data.iloc[i, :]))\n",
    "        lab.append(np.argmin(dis))\n",
    "    return np.asarray(lab)\n",
    "#labels = label(df[df.columns[:-1]], centroids)"
   ]
  },
  {
   "cell_type": "code",
   "execution_count": 10,
   "metadata": {},
   "outputs": [],
   "source": [
    "def graph(data, labels, centroids):\n",
    "    colors = ['b','g','r','c','m','y','k','w']\n",
    "    for i in range(0, max(labels)+1):\n",
    "        plt.scatter(centroids[i,0],centroids[i,1], color = colors[i+2], marker = '<', s = 150)\n",
    "        for j in range(0, len(labels)):\n",
    "            if labels[j] == i:\n",
    "                plt.scatter(data.iloc[j,0], data.iloc[j,1], color = colors[i])\n",
    "#graph(df[df.columns[:-1]], labels, centroids)                "
   ]
  },
  {
   "cell_type": "code",
   "execution_count": 11,
   "metadata": {},
   "outputs": [],
   "source": [
    "def update_centroids(data, labels, centroids):\n",
    "    m,n = np.shape(centroids)\n",
    "    temp_centroid = np.zeros((m,n))\n",
    "    count = np.zeros((m,n))\n",
    "    for j in range(0, len(labels)):\n",
    "        for k in range(0, n):\n",
    "            temp_centroid[labels[j],k]+= data.iloc[j,k]\n",
    "            count[labels[j],k]+= 1\n",
    "    for i in range(0,m):\n",
    "        for j in range(0,n):\n",
    "            if count[i,j] == 0:\n",
    "                count[i,j] += 1\n",
    "    return temp_centroid/count"
   ]
  },
  {
   "cell_type": "code",
   "execution_count": 12,
   "metadata": {},
   "outputs": [],
   "source": [
    "def graph_axis(data, labels, centroids, axis):\n",
    "    colors = ['b','g','r','c','m','y','k','w']\n",
    "    for i in range(0, max(labels)+1):\n",
    "        axis.scatter(centroids[i,0],centroids[i,1], color = colors[i+2], marker = '<', s = 150)\n",
    "        for j in range(0, len(labels)):\n",
    "            if labels[j] == i:\n",
    "                axis.scatter(data.iloc[j,0], data.iloc[j,1], color = colors[i])"
   ]
  },
  {
   "cell_type": "code",
   "execution_count": 13,
   "metadata": {},
   "outputs": [],
   "source": [
    "def ssefind(df,centroids):\n",
    "    sum_squares=0\n",
    "    for ran in range (0,df['label'].max()+1):\n",
    "        data = df[df.label == ran]\n",
    "        data=data[data.columns[:-1]]\n",
    "        m, n = np.shape(data)\n",
    "        distance_1=0\n",
    "        for i in range(0, m):\n",
    "            distance_1+=(distance(centroids[ran,:],data.iloc[i,:])**2)\n",
    "        sum_squares+=distance_1\n",
    "    return sum_squares"
   ]
  },
  {
   "cell_type": "code",
   "execution_count": 14,
   "metadata": {},
   "outputs": [],
   "source": [
    "def diffSSE(SSE):\n",
    "\n",
    "    if (((SSE[-2]-SSE[-1])/SSE[-2])>0.02):\n",
    "        return True\n",
    "    else:\n",
    "        return False\n"
   ]
  },
  {
   "cell_type": "code",
   "execution_count": 15,
   "metadata": {},
   "outputs": [],
   "source": [
    "def cluster_kmeans(df, n_clusters =3, iter = 30):\n",
    "    SSE=[]\n",
    "    centroids = create_centroids(df[df.columns[:-1]], num_clusters = n_clusters)\n",
    "    labels = label(df[df.columns[:-1]], centroids)\n",
    "    df['label'] = labels\n",
    "    SSE.append(ssefind(df,centroids))\n",
    "    centroids = update_centroids(df[df.columns[:-1]], labels, centroids)\n",
    "    labels = label(df[df.columns[:-1]], centroids)\n",
    "    df['label'] = labels\n",
    "    SSE.append(ssefind(df,centroids))\n",
    "    for i in range(0,iter-3):\n",
    "        while(diffSSE(SSE)):\n",
    "            centroids = update_centroids(df[df.columns[:-1]], labels, centroids)\n",
    "            labels = label(df[df.columns[:-1]], centroids)\n",
    "            df['label'] = labels\n",
    "            SSE.append(ssefind(df,centroids))\n",
    "    #graph(df[df.columns[:-1]], labels, centroids)  \n",
    "    return df.label.to_frame(), SSE[-1]"
   ]
  },
  {
   "cell_type": "code",
   "execution_count": 16,
   "metadata": {},
   "outputs": [
    {
     "data": {
      "text/plain": [
       "(    label\n",
       " 51      0\n",
       " 44      0\n",
       " 47      0\n",
       " 16      0\n",
       " 55      0\n",
       " ..    ...\n",
       " 26      0\n",
       " 97      0\n",
       " 90      0\n",
       " 84      0\n",
       " 98      0\n",
       " \n",
       " [100 rows x 1 columns],\n",
       " 1136.5281323787003)"
      ]
     },
     "execution_count": 16,
     "metadata": {},
     "output_type": "execute_result"
    }
   ],
   "source": [
    "pts = generate_2D_blob((10,0.2), (11,0.2), 55, 0)\n",
    "pts = pts.append(generate_2D_blob((4,0.5), (8,0.3), 45, 1), ignore_index=True)\n",
    "pts = pts.sample(frac=1)\n",
    "cluster_kmeans(pts,1)"
   ]
  },
  {
   "cell_type": "code",
   "execution_count": null,
   "metadata": {},
   "outputs": [],
   "source": []
  }
 ],
 "metadata": {
  "kernelspec": {
   "display_name": "Python 3",
   "language": "python",
   "name": "python3"
  },
  "language_info": {
   "codemirror_mode": {
    "name": "ipython",
    "version": 3
   },
   "file_extension": ".py",
   "mimetype": "text/x-python",
   "name": "python",
   "nbconvert_exporter": "python",
   "pygments_lexer": "ipython3",
   "version": "3.7.6"
  }
 },
 "nbformat": 4,
 "nbformat_minor": 2
}
